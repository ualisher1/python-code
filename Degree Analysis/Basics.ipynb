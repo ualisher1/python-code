{
 "cells": [
  {
   "cell_type": "code",
   "execution_count": 3,
   "metadata": {
    "collapsed": false
   },
   "outputs": [
    {
     "ename": "SyntaxError",
     "evalue": "(unicode error) 'unicodeescape' codec can't decode bytes in position 2-3: truncated \\UXXXXXXXX escape (<ipython-input-3-6703158a4e8a>, line 82)",
     "output_type": "error",
     "traceback": [
      "\u001b[1;36m  File \u001b[1;32m\"<ipython-input-3-6703158a4e8a>\"\u001b[1;36m, line \u001b[1;32m82\u001b[0m\n\u001b[1;33m    plt.savefig('C:\\Users\\Alisher_Umarov\\Documents\\D Drive\\Analyses\\biology_degrees.png')\u001b[0m\n\u001b[1;37m               ^\u001b[0m\n\u001b[1;31mSyntaxError\u001b[0m\u001b[1;31m:\u001b[0m (unicode error) 'unicodeescape' codec can't decode bytes in position 2-3: truncated \\UXXXXXXXX escape\n"
     ]
    }
   ],
   "source": [
    "%matplotlib inline\n",
    "import pandas as pd\n",
    "import matplotlib.pyplot as plt\n",
    "\n",
    "women_degrees = pd.read_csv('percent-bachelors-degrees-women-usa.csv')\n",
    "cb_dark_blue = (0/255,107/255,164/255)\n",
    "cb_orange = (255/255, 128/255, 14/255)\n",
    "\n",
    "stem_cats = ['Engineering', 'Computer Science', 'Psychology', 'Biology', 'Physical Sciences', 'Math and Statistics']\n",
    "lib_arts_cats = ['Foreign Languages', 'English', 'Communications and Journalism', 'Art and Performance', 'Social Sciences and History']\n",
    "other_cats = ['Health Professions', 'Public Administration', 'Education', 'Agriculture','Business', 'Architecture']\n",
    "\n",
    "fig = plt.figure(figsize=(16, 16))\n",
    "\n",
    "## Generate first column of line charts. STEM degrees.\n",
    "for sp in range(0,18,3):\n",
    "    cat_index = int(sp/3)\n",
    "    ax = fig.add_subplot(6,3,sp+1)\n",
    "    ax.plot(women_degrees['Year'], women_degrees[stem_cats[cat_index]], c=cb_dark_blue, label='Women', linewidth=3)\n",
    "    ax.plot(women_degrees['Year'], 100-women_degrees[stem_cats[cat_index]], c=cb_orange, label='Men', linewidth=3)\n",
    "    for key,spine in ax.spines.items():\n",
    "        spine.set_visible(False)\n",
    "    ax.set_xlim(1968, 2011)\n",
    "    ax.set_ylim(0,100)\n",
    "    ax.set_title(stem_cats[cat_index])\n",
    "    ax.tick_params(bottom=\"off\", top=\"off\", left=\"off\", right=\"off\")\n",
    "    ax.set_yticks([0,100])\n",
    "    ax.axhline(50, c=(171/255, 171/255, 171/255), alpha=0.3)\n",
    "    if sp != 15:\n",
    "        ax.tick_params(bottom=\"off\", top=\"off\", left=\"off\", right=\"off\", labelbottom='off')\n",
    "    \n",
    "    if cat_index == 0:\n",
    "        ax.text(2003, 85, 'Women')\n",
    "        ax.text(2005, 10, 'Men')\n",
    "    elif cat_index == 5:\n",
    "        ax.text(2005, 87, 'Men')\n",
    "        ax.text(2003, 7, 'Women')\n",
    "\n",
    "## Generate second column of line charts. Liberal arts degrees.\n",
    "for sp in range(1,16,3):\n",
    "    cat_index = int((sp-1)/3)\n",
    "    ax = fig.add_subplot(6,3,sp+1)\n",
    "    ax.plot(women_degrees['Year'], women_degrees[lib_arts_cats[cat_index]], c=cb_dark_blue, label='Women', linewidth=3)\n",
    "    ax.plot(women_degrees['Year'], 100-women_degrees[lib_arts_cats[cat_index]], c=cb_orange, label='Men', linewidth=3)\n",
    "    for key,spine in ax.spines.items():\n",
    "        spine.set_visible(False)\n",
    "    ax.set_xlim(1968, 2011)\n",
    "    ax.set_ylim(0,100)\n",
    "    ax.set_title(lib_arts_cats[cat_index])\n",
    "    ax.tick_params(bottom=\"off\", top=\"off\", left=\"off\", right=\"off\")\n",
    "    ax.set_yticks([0,100])\n",
    "    ax.axhline(50, c=(171/255, 171/255, 171/255), alpha=0.3)\n",
    "    if sp != 13:\n",
    "        ax.tick_params(bottom=\"off\", top=\"off\", left=\"off\", right=\"off\", labelbottom='off')\n",
    "    \n",
    "    if cat_index == 0:\n",
    "        ax.text(2003, 78, 'Women')\n",
    "        ax.text(2005, 18, 'Men')\n",
    "        \n",
    "for sp in range(2,20,3):\n",
    "    cat_index = int((sp-2)/3)\n",
    "    ax = fig.add_subplot(6,3,sp+1)\n",
    "    ax.plot(women_degrees['Year'], women_degrees[other_cats[cat_index]], c=cb_dark_blue, label='Women', linewidth=3)\n",
    "    ax.plot(women_degrees['Year'], 100-women_degrees[other_cats[cat_index]], c=cb_orange, label='Men', linewidth=3)\n",
    "    for key,spine in ax.spines.items():\n",
    "        spine.set_visible(False)\n",
    "    ax.set_xlim(1968, 2011)\n",
    "    ax.set_ylim(0,100)\n",
    "    ax.set_title(other_cats[cat_index])\n",
    "    ax.tick_params(bottom=\"off\", top=\"off\", left=\"off\", right=\"off\")\n",
    "    ax.set_yticks([0,100])\n",
    "    ax.axhline(50, c=(171/255, 171/255, 171/255), alpha=0.3)\n",
    "    if sp != 17:\n",
    "        ax.tick_params(bottom=\"off\", top=\"off\", left=\"off\", right=\"off\", labelbottom='off')\n",
    "    \n",
    "    if cat_index == 0:\n",
    "        ax.text(2003, 90, 'Women')\n",
    "        ax.text(2005, 5, 'Men')\n",
    "    elif cat_index == 5:\n",
    "        ax.text(2005, 62, 'Men')\n",
    "        ax.text(2003, 30, 'Women')   \n",
    "\n",
    "# Export file before calling pyplot.show()\n",
    "fig.savefig(\"gender_degrees.png\")\n",
    "plt.show()        "
   ]
  },
  {
   "cell_type": "code",
   "execution_count": null,
   "metadata": {
    "collapsed": true
   },
   "outputs": [],
   "source": []
  }
 ],
 "metadata": {
  "kernelspec": {
   "display_name": "Python 3",
   "language": "python",
   "name": "python3"
  },
  "language_info": {
   "codemirror_mode": {
    "name": "ipython",
    "version": 3
   },
   "file_extension": ".py",
   "mimetype": "text/x-python",
   "name": "python",
   "nbconvert_exporter": "python",
   "pygments_lexer": "ipython3",
   "version": "3.4.3"
  }
 },
 "nbformat": 4,
 "nbformat_minor": 0
}
