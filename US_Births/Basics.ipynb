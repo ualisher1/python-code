{
 "cells": [
  {
   "cell_type": "code",
   "execution_count": 59,
   "metadata": {
    "collapsed": false
   },
   "outputs": [
    {
     "data": {
      "text/plain": [
       "{1: 5789166,\n",
       " 2: 6446196,\n",
       " 3: 6322855,\n",
       " 4: 6288429,\n",
       " 5: 6233657,\n",
       " 6: 4562111,\n",
       " 7: 4079723}"
      ]
     },
     "execution_count": 59,
     "metadata": {},
     "output_type": "execute_result"
    }
   ],
   "source": [
    "\n",
    "def read_csv(file_name):\n",
    "    text = open(file_name, 'r').read()\n",
    "    lines_list = text.split('\\n')\n",
    "    string_list = lines_list[1:len(lines_list)]\n",
    "    final_list=[]\n",
    "    for list in string_list:\n",
    "        int_fields=[]\n",
    "        string_fields=list.split(',')\n",
    "        year=int(string_fields[0])\n",
    "        month=int(string_fields[1])\n",
    "        day=int(string_fields[2])\n",
    "        week_day=int(string_fields[3])\n",
    "        births=int(string_fields[4])\n",
    "        int_fields=(year, month, day, week_day, births)\n",
    "        final_list.append(int_fields)\n",
    "    return final_list\n",
    "\n",
    "cdc_list=read_csv(\"US_births_1994-2003_CDC_NCHS.csv\")\n",
    "\n",
    "def month_births(cdc_list, column):\n",
    "    births_per_month={}\n",
    "    for list in cdc_list:\n",
    "        month=(list[column])\n",
    "        births=(list[4])\n",
    "        if month in births_per_month:\n",
    "            births_per_month[month] = births_per_month[month] + births\n",
    "        else:\n",
    "            births_per_month[month] = births\n",
    "    return births_per_month    \n",
    "\n",
    "month_births(cdc_list, 3)\n",
    "        \n"
   ]
  },
  {
   "cell_type": "code",
   "execution_count": null,
   "metadata": {
    "collapsed": true
   },
   "outputs": [],
   "source": []
  }
 ],
 "metadata": {
  "anaconda-cloud": {},
  "kernelspec": {
   "display_name": "Python 3",
   "language": "python",
   "name": "python3"
  },
  "language_info": {
   "codemirror_mode": {
    "name": "ipython",
    "version": 3
   },
   "file_extension": ".py",
   "mimetype": "text/x-python",
   "name": "python",
   "nbconvert_exporter": "python",
   "pygments_lexer": "ipython3",
   "version": "3.4.3"
  }
 },
 "nbformat": 4,
 "nbformat_minor": 1
}
