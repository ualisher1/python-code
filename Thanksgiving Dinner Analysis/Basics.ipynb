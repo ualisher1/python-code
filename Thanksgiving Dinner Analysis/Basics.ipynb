{
 "cells": [
  {
   "cell_type": "code",
   "execution_count": 23,
   "metadata": {
    "collapsed": false
   },
   "outputs": [
    {
     "data": {
      "text/html": [
       "<div>\n",
       "<table border=\"1\" class=\"dataframe\">\n",
       "  <thead>\n",
       "    <tr style=\"text-align: right;\">\n",
       "      <th>Have you ever attended a \"Friendsgiving?\"</th>\n",
       "      <th>No</th>\n",
       "      <th>Yes</th>\n",
       "    </tr>\n",
       "    <tr>\n",
       "      <th>Have you ever tried to meet up with hometown friends on Thanksgiving night?</th>\n",
       "      <th></th>\n",
       "      <th></th>\n",
       "    </tr>\n",
       "  </thead>\n",
       "  <tbody>\n",
       "    <tr>\n",
       "      <th>No</th>\n",
       "      <td>78914.549654</td>\n",
       "      <td>72894.736842</td>\n",
       "    </tr>\n",
       "    <tr>\n",
       "      <th>Yes</th>\n",
       "      <td>78750.000000</td>\n",
       "      <td>66019.736842</td>\n",
       "    </tr>\n",
       "  </tbody>\n",
       "</table>\n",
       "</div>"
      ],
      "text/plain": [
       "Have you ever attended a \"Friendsgiving?\"                     No           Yes\n",
       "Have you ever tried to meet up with hometown fr...                            \n",
       "No                                                  78914.549654  72894.736842\n",
       "Yes                                                 78750.000000  66019.736842"
      ]
     },
     "execution_count": 23,
     "metadata": {},
     "output_type": "execute_result"
    }
   ],
   "source": [
    "import pandas as pd\n",
    "data=pd.read_csv(\"thanksgiving.csv\", encoding=\"Latin-1\")\n",
    "\n",
    "Celebration=data['Do you celebrate Thanksgiving?']\n",
    "counts=Celebration.value_counts()\n",
    "\n",
    "data_celebrate=data.loc[data['Do you celebrate Thanksgiving?'] == \"Yes\"]\n",
    "\n",
    "dish=data['What is typically the main dish at your Thanksgiving dinner?']\n",
    "dish.value_counts()\n",
    "\n",
    "data_tofurkey=data.loc[data['What is typically the main dish at your Thanksgiving dinner?'] == \"Tofurkey\"]\n",
    "gravy=data_tofurkey['Do you typically have gravy?']\n",
    "\n",
    "apple_pie = data['Which type of pie is typically served at your Thanksgiving dinner? Please select all that apply. - Apple']\n",
    "apple_isnull = pd.isnull(apple_pie)\n",
    "\n",
    "pumpkin_pie = data['Which type of pie is typically served at your Thanksgiving dinner? Please select all that apply. - Pumpkin']\n",
    "pumpkin_isnull = pd.isnull(pumpkin_pie)\n",
    "\n",
    "pecan_pie = data['Which type of pie is typically served at your Thanksgiving dinner? Please select all that apply. - Pecan']\n",
    "pecan_isnull = pd.isnull(pecan_pie)\n",
    "\n",
    "ate_pies = [apple_isnull & pumpkin_isnull & pecan_isnull]\n",
    "\n",
    "def extract_age(age_str):\n",
    "    if pd.isnull(age_str):\n",
    "        return None\n",
    "    age_str = age_str.split(\" \")[0]\n",
    "    age_str = age_str.replace(\"+\", \"\")\n",
    "    return int(age_str)\n",
    "\n",
    "data[\"int_age\"] = data[\"Age\"].apply(extract_age)\n",
    "data[\"int_age\"].describe()\n",
    "\n",
    "\n",
    "def extract_income(income_str):\n",
    "    if pd.isnull(income_str):\n",
    "        return None\n",
    "    income_str = income_str.split(\" \")[0]\n",
    "    if income_str == \"Prefer\":\n",
    "        return None\n",
    "    income_str = income_str.replace(\",\", \"\")\n",
    "    income_str = income_str.replace(\"$\", \"\")\n",
    "    return int(income_str)\n",
    "\n",
    "data[\"int_income\"] = data[\"How much total combined money did all members of your HOUSEHOLD earn last year?\"].apply(extract_income)\n",
    "data[\"int_income\"].describe()\n",
    "\n",
    "\n",
    "age_thanksgiving=data.pivot_table(index=\"Have you ever tried to meet up with hometown friends on Thanksgiving night?\", columns='Have you ever attended a \"Friendsgiving?\"',values=\"int_age\")\n",
    "age_thanksgiving\n",
    "\n",
    "income_thanksgiving=data.pivot_table(index=\"Have you ever tried to meet up with hometown friends on Thanksgiving night?\", columns='Have you ever attended a \"Friendsgiving?\"',values=\"int_income\")\n",
    "income_thanksgiving\n",
    "\n"
   ]
  },
  {
   "cell_type": "code",
   "execution_count": null,
   "metadata": {
    "collapsed": true
   },
   "outputs": [],
   "source": []
  }
 ],
 "metadata": {
  "kernelspec": {
   "display_name": "Python 3",
   "language": "python",
   "name": "python3"
  },
  "language_info": {
   "codemirror_mode": {
    "name": "ipython",
    "version": 3
   },
   "file_extension": ".py",
   "mimetype": "text/x-python",
   "name": "python",
   "nbconvert_exporter": "python",
   "pygments_lexer": "ipython3",
   "version": "3.4.3"
  }
 },
 "nbformat": 4,
 "nbformat_minor": 0
}
