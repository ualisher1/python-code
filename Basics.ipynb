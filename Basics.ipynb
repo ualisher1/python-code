{
 "cells": [
  {
   "cell_type": "code",
   "execution_count": 2,
   "metadata": {
    "collapsed": false
   },
   "outputs": [
    {
     "data": {
      "text/plain": [
       "{'Asian/Pacific Islander': 8.374309664161762,\n",
       " 'Black': 57.8773477735196,\n",
       " 'Hispanic': 20.220491210910907,\n",
       " 'Native American/Native Alaskan': 24.521955573811088,\n",
       " 'White': 33.56849303419181}"
      ]
     },
     "execution_count": 2,
     "metadata": {},
     "output_type": "execute_result"
    }
   ],
   "source": [
    "import csv\n",
    "\n",
    "f=open(\"guns.csv\",\"r\")\n",
    "csvreader=csv.reader(f)\n",
    "data=list(csvreader)\n",
    "\n",
    "headers=data[0:1]\n",
    "data=data[1:]\n",
    "\n",
    "years=[]\n",
    "\n",
    "years=[row[1] for row in data]\n",
    "\n",
    "year_counts={}\n",
    "\n",
    "#for year in years:\n",
    "#    if year in year_counts:\n",
    "#        year_counts[year]=year_counts[years]+1\n",
    "#    else:\n",
    "#        year_counts[year]=1\n",
    "              \n",
    "year_counts = {}\n",
    "for year in years:\n",
    "    if year not in year_counts:\n",
    "        year_counts[year] = 0\n",
    "    year_counts[year] += 1\n",
    "\n",
    "import datetime\n",
    "\n",
    "dates=[datetime.datetime(year=int(row[1]), month=int(row[2]), day=1) for row in data]        \n",
    "\n",
    "date_counts={}\n",
    "for date in dates:\n",
    "    if date not in date_counts:\n",
    "        date_counts[date] = 0\n",
    "    date_counts[date] += 1\n",
    "\n",
    "sexes=[row[5] for row in data]\n",
    "races=[row[7] for row in data]\n",
    "\n",
    "sex_counts = {}\n",
    "for sex in sexes:\n",
    "    if sex not in sex_counts:\n",
    "        sex_counts[sex] = 0\n",
    "    sex_counts[sex] += 1   \n",
    "\n",
    "race_counts = {}\n",
    "for race in races:\n",
    "    if race not in race_counts:\n",
    "        race_counts[race] = 0\n",
    "    race_counts[race] += 1\n",
    "    \n",
    "c=open(\"census.csv\",\"r\")\n",
    "csvreader=csv.reader(c)\n",
    "census=list(csvreader)\n",
    "\n",
    "\n",
    "mapping = {\n",
    "    \"Asian/Pacific Islander\": 15159516 + 674625,\n",
    "    \"Native American/Native Alaskan\": 3739506,\n",
    "    \"Black\": 40250635,\n",
    "    \"Hispanic\": 44618105,\n",
    "    \"White\": 197318956\n",
    "}\n",
    " \n",
    "race_per_hundredk={}\n",
    "for k,v in race_counts.items():\n",
    "    race_per_hundredk[k] = (v / mapping[k]) * 100000\n",
    "\n",
    "intents=[row[3] for row in data]  \n",
    "homicide_race_counts={}\n",
    "\n",
    "for i, race in enumerate(races):\n",
    "    if race not in homicide_race_counts:\n",
    "        homicide_race_counts[race]=0\n",
    "    if intents[i]==\"Homicide\":\n",
    "        homicide_race_per_hundredk[race]=1\n",
    "        homicide_race_per_hundredk[race]=homicide_race_per_hundredk[race]+1    \n",
    "            \n",
    "    \n",
    "\n",
    "intents = [row[3] for row in data]\n",
    "homicide_race_counts = {}\n",
    "\n",
    "for i,race in enumerate(races):\n",
    "    if race not in homicide_race_counts:\n",
    "        homicide_race_counts[race] = 0\n",
    "    if intents[i] == \"Homicide\":\n",
    "        homicide_race_counts[race] += 1\n",
    "\n",
    "race_per_hundredk = {}\n",
    "for k,v in homicide_race_counts.items():\n",
    "    race_per_hundredk[k] = (v / mapping[k]) * 100000\n",
    "\n",
    "race_per_hundredk    "
   ]
  },
  {
   "cell_type": "code",
   "execution_count": null,
   "metadata": {
    "collapsed": true
   },
   "outputs": [],
   "source": []
  }
 ],
 "metadata": {
  "kernelspec": {
   "display_name": "Python 3",
   "language": "python",
   "name": "python3"
  },
  "language_info": {
   "codemirror_mode": {
    "name": "ipython",
    "version": 3
   },
   "file_extension": ".py",
   "mimetype": "text/x-python",
   "name": "python",
   "nbconvert_exporter": "python",
   "pygments_lexer": "ipython3",
   "version": "3.4.3"
  }
 },
 "nbformat": 4,
 "nbformat_minor": 0
}
